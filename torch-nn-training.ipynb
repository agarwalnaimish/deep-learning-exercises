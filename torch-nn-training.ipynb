{
 "cells": [
  {
   "cell_type": "markdown",
   "metadata": {},
   "source": [
    "Example to create a neural network with one hidden layer for solving the classical XOR problem.\n",
    "\n",
    "Based on the lua code at\n",
    "https://github.com/torch/nn/blob/master/doc/training.md\n",
    "\n",
    "I make use of `lutorpy` python package to port the `torch` code to python.\n",
    "\n",
    "@author: Naimish Agarwal\n",
    "\n",
    "@dependencies: python 2.7, torch 7, lutorpy\n"
   ]
  },
  {
   "cell_type": "code",
   "execution_count": null,
   "metadata": {
    "collapsed": true
   },
   "outputs": [],
   "source": [
    "import lutorpy as lua"
   ]
  },
  {
   "cell_type": "code",
   "execution_count": null,
   "metadata": {
    "collapsed": false
   },
   "outputs": [],
   "source": [
    "# set runtime options\n",
    "lua.LuaRuntime(unpack_returned_tuples=True)"
   ]
  },
  {
   "cell_type": "code",
   "execution_count": null,
   "metadata": {
    "collapsed": false
   },
   "outputs": [],
   "source": [
    "# import packages \n",
    "lua.require(\"nn\")\n",
    "lua.require(\"torch\")"
   ]
  },
  {
   "cell_type": "code",
   "execution_count": null,
   "metadata": {
    "collapsed": true
   },
   "outputs": [],
   "source": [
    "# dataset is created to cater to the\n",
    "# requirements of 'StochasticGradient' function in 'nn'\n",
    "class Dataset(object):\n",
    "\n",
    "    def __init__(self):\n",
    "\n",
    "        # list of tuples\n",
    "        self.data = []\n",
    "\n",
    "        # generate training data with 3000 samples\n",
    "        for i in range(0, 3000, 1):\n",
    "\n",
    "            # 2 inputs\n",
    "            x = torch.randn(2)\n",
    "\n",
    "            # 1 output\n",
    "            y = torch.Tensor(1)\n",
    "\n",
    "            # calculate XOR\n",
    "            if x[0] * x[1] > 0:\n",
    "                y[0] = -1\n",
    "            else:\n",
    "                y[0] = 1\n",
    "\n",
    "            self.data.append((i, x, y))\n",
    "\n",
    "    def __getitem__(self, key):\n",
    "\n",
    "        if key == \"size\":\n",
    "            return lambda x: len(self.data)\n",
    "\n",
    "        return self.data[key - 1]\n",
    "\n",
    "dataset = Dataset()\n"
   ]
  },
  {
   "cell_type": "code",
   "execution_count": null,
   "metadata": {
    "collapsed": true
   },
   "outputs": [],
   "source": [
    "# number of neuron units\n",
    "num_input_units = 2\n",
    "num_hidden_units = 20\n",
    "num_output_units = 1\n"
   ]
  },
  {
   "cell_type": "code",
   "execution_count": null,
   "metadata": {
    "collapsed": false
   },
   "outputs": [],
   "source": [
    "# multi-layer perceptron\n",
    "mlp = nn.Sequential()\n",
    "\n",
    "# add layers\n",
    "mlp._add(nn.Linear(num_input_units, num_hidden_units))\n",
    "mlp._add(nn.Tanh())\n",
    "mlp._add(nn.Linear(num_hidden_units, num_output_units))\n"
   ]
  },
  {
   "cell_type": "code",
   "execution_count": null,
   "metadata": {
    "collapsed": false
   },
   "outputs": [],
   "source": [
    "\n",
    "# loss criterion\n",
    "loss_criterion = nn.MSECriterion()\n",
    "\n",
    "# network trainer\n",
    "trainer = nn.StochasticGradient(mlp, loss_criterion)\n",
    "trainer.learningRate = 0.01\n",
    "trainer.maxIteration = 30\n",
    "trainer.shuffleIndices = True\n",
    "trainer.verbose = True\n",
    "trainer._train(dataset)\n"
   ]
  },
  {
   "cell_type": "code",
   "execution_count": null,
   "metadata": {
    "collapsed": false
   },
   "outputs": [],
   "source": [
    "# test the network\n",
    "x = torch.Tensor(2)\n",
    "\n",
    "x[0] = 0.5\n",
    "x[1] = 0.5\n",
    "print(mlp._forward(x))\n",
    "\n",
    "x[0] = -0.5\n",
    "x[1] = 0.5\n",
    "print(mlp._forward(x))\n",
    "\n",
    "x[0] = 0.5\n",
    "x[1] = -0.5\n",
    "print(mlp._forward(x))\n",
    "\n",
    "x[0] = -0.5\n",
    "x[1] = -0.5\n",
    "print(mlp._forward(x))\n"
   ]
  }
 ],
 "metadata": {
  "kernelspec": {
   "display_name": "Python 2",
   "language": "python",
   "name": "python2"
  },
  "language_info": {
   "codemirror_mode": {
    "name": "ipython",
    "version": 2
   },
   "file_extension": ".py",
   "mimetype": "text/x-python",
   "name": "python",
   "nbconvert_exporter": "python",
   "pygments_lexer": "ipython2",
   "version": "2.7.12"
  }
 },
 "nbformat": 4,
 "nbformat_minor": 1
}
